{
  "nbformat": 4,
  "nbformat_minor": 0,
  "metadata": {
    "colab": {
      "name": "garmin_insights.ipynb",
      "provenance": [],
      "collapsed_sections": [],
      "include_colab_link": true
    },
    "kernelspec": {
      "name": "python3",
      "display_name": "Python 3"
    },
    "language_info": {
      "name": "python"
    }
  },
  "cells": [
    {
      "cell_type": "markdown",
      "metadata": {
        "id": "view-in-github",
        "colab_type": "text"
      },
      "source": [
        "<a href=\"https://colab.research.google.com/github/elisa-luo/dp-simulations/blob/main/garmin_insights.ipynb\" target=\"_parent\"><img src=\"https://colab.research.google.com/assets/colab-badge.svg\" alt=\"Open In Colab\"/></a>"
      ]
    },
    {
      "cell_type": "markdown",
      "source": [
        "# Package installs + imports"
      ],
      "metadata": {
        "id": "ybBMe7v23yZ6"
      }
    },
    {
      "cell_type": "code",
      "metadata": {
        "colab": {
          "base_uri": "https://localhost:8080/"
        },
        "id": "fp-DF48-sI2m",
        "outputId": "fc7da4f3-184b-486a-ccfa-412198a0f0f9"
      },
      "source": [
        "!pip install python-dp"
      ],
      "execution_count": null,
      "outputs": [
        {
          "output_type": "stream",
          "name": "stdout",
          "text": [
            "Requirement already satisfied: python-dp in /usr/local/lib/python3.7/dist-packages (1.1.1)\n"
          ]
        }
      ]
    },
    {
      "cell_type": "code",
      "metadata": {
        "id": "8yLgXDsN6VrP"
      },
      "source": [
        "import pandas as pd\n",
        "import matplotlib.pyplot as plt\n",
        "import numpy as np\n",
        "import pydp as dp \n",
        "from pydp.algorithms.laplacian import BoundedSum, BoundedMean, Count, Max\n",
        "import pandas as pd\n",
        "import statistics"
      ],
      "execution_count": null,
      "outputs": []
    },
    {
      "cell_type": "markdown",
      "source": [
        "# Generate Synthetic Dataset\n",
        "*   10,000 users\n",
        "*   columns: average sleep duration and user ID (UID)\n",
        "- sleep time generated using a normal distribution\n",
        "  - mean + std of sleep duration based off of [CDC study](https://www.cdc.gov/mmwr/volumes/65/wr/mm6506a1.htm?s_cid=mm6506a1_w)\n",
        "\n"
      ],
      "metadata": {
        "id": "99oeM8-e3Oe1"
      }
    },
    {
      "cell_type": "code",
      "metadata": {
        "colab": {
          "base_uri": "https://localhost:8080/"
        },
        "id": "iVfCjnuN8AmP",
        "outputId": "88f6e2c7-6f1e-492a-ea2e-65fc27833141"
      },
      "source": [
        "mean, std = 7, 1.5\n",
        "np.random.normal(mean, std)"
      ],
      "execution_count": null,
      "outputs": [
        {
          "output_type": "execute_result",
          "data": {
            "text/plain": [
              "7.066493370714232"
            ]
          },
          "metadata": {},
          "execution_count": 3
        }
      ]
    },
    {
      "cell_type": "code",
      "metadata": {
        "id": "wmIk3bU2HLYy"
      },
      "source": [
        "uid = range(0, 10000)\n",
        "sleep_times = [np.random.normal(mean, std) for i in range(0,10000)]\n",
        "assert len(uid) == len(sleep_times) == 10000"
      ],
      "execution_count": null,
      "outputs": []
    },
    {
      "cell_type": "code",
      "metadata": {
        "id": "PV8NnvyNM_D1"
      },
      "source": [
        "original_df = pd.DataFrame({\"UID\": uid, \"sleep_duration\": sleep_times})"
      ],
      "execution_count": null,
      "outputs": []
    },
    {
      "cell_type": "code",
      "metadata": {
        "colab": {
          "base_uri": "https://localhost:8080/",
          "height": 206
        },
        "id": "zGQoLoY9tO0n",
        "outputId": "763672af-d4b0-4490-a070-a1cf774d3609"
      },
      "source": [
        "original_df.head(5)"
      ],
      "execution_count": null,
      "outputs": [
        {
          "output_type": "execute_result",
          "data": {
            "text/html": [
              "<div>\n",
              "<style scoped>\n",
              "    .dataframe tbody tr th:only-of-type {\n",
              "        vertical-align: middle;\n",
              "    }\n",
              "\n",
              "    .dataframe tbody tr th {\n",
              "        vertical-align: top;\n",
              "    }\n",
              "\n",
              "    .dataframe thead th {\n",
              "        text-align: right;\n",
              "    }\n",
              "</style>\n",
              "<table border=\"1\" class=\"dataframe\">\n",
              "  <thead>\n",
              "    <tr style=\"text-align: right;\">\n",
              "      <th></th>\n",
              "      <th>UID</th>\n",
              "      <th>sleep_duration</th>\n",
              "    </tr>\n",
              "  </thead>\n",
              "  <tbody>\n",
              "    <tr>\n",
              "      <th>0</th>\n",
              "      <td>0</td>\n",
              "      <td>8.691973</td>\n",
              "    </tr>\n",
              "    <tr>\n",
              "      <th>1</th>\n",
              "      <td>1</td>\n",
              "      <td>9.846144</td>\n",
              "    </tr>\n",
              "    <tr>\n",
              "      <th>2</th>\n",
              "      <td>2</td>\n",
              "      <td>4.841510</td>\n",
              "    </tr>\n",
              "    <tr>\n",
              "      <th>3</th>\n",
              "      <td>3</td>\n",
              "      <td>8.474597</td>\n",
              "    </tr>\n",
              "    <tr>\n",
              "      <th>4</th>\n",
              "      <td>4</td>\n",
              "      <td>3.163695</td>\n",
              "    </tr>\n",
              "  </tbody>\n",
              "</table>\n",
              "</div>"
            ],
            "text/plain": [
              "   UID  sleep_duration\n",
              "0    0        8.691973\n",
              "1    1        9.846144\n",
              "2    2        4.841510\n",
              "3    3        8.474597\n",
              "4    4        3.163695"
            ]
          },
          "metadata": {},
          "execution_count": 6
        }
      ]
    },
    {
      "cell_type": "markdown",
      "source": [
        "# A Simple Membership Inference Attack Demo\n",
        "- show how using DP can protect a user against this attack"
      ],
      "metadata": {
        "id": "sfqQOVE55Dms"
      }
    },
    {
      "cell_type": "markdown",
      "source": [
        "First, let's redact 1 entry from the original dataset; the data of user with UID 0. \n",
        "- For the Membership Inference Attack, if we take the sum of the sleep_duration of all users and compare it with the sum of sleep_duration with the dataset which has exactly one less record, we should be able to identify which user has slept how much and hence identify the user.\n",
        "\n"
      ],
      "metadata": {
        "id": "LpH_caLX4NrK"
      }
    },
    {
      "cell_type": "code",
      "source": [
        "redact_df = original_df.copy()\n",
        "redact_df = redact_df[1:]"
      ],
      "metadata": {
        "id": "pUW9-1HJ4Mvo"
      },
      "execution_count": null,
      "outputs": []
    },
    {
      "cell_type": "code",
      "metadata": {
        "colab": {
          "base_uri": "https://localhost:8080/",
          "height": 206
        },
        "id": "bJmc9RzntTos",
        "outputId": "16eb9b6c-717a-4071-d095-857cdce913b1"
      },
      "source": [
        "redact_df.head(5)"
      ],
      "execution_count": null,
      "outputs": [
        {
          "output_type": "execute_result",
          "data": {
            "text/html": [
              "<div>\n",
              "<style scoped>\n",
              "    .dataframe tbody tr th:only-of-type {\n",
              "        vertical-align: middle;\n",
              "    }\n",
              "\n",
              "    .dataframe tbody tr th {\n",
              "        vertical-align: top;\n",
              "    }\n",
              "\n",
              "    .dataframe thead th {\n",
              "        text-align: right;\n",
              "    }\n",
              "</style>\n",
              "<table border=\"1\" class=\"dataframe\">\n",
              "  <thead>\n",
              "    <tr style=\"text-align: right;\">\n",
              "      <th></th>\n",
              "      <th>UID</th>\n",
              "      <th>sleep_duration</th>\n",
              "    </tr>\n",
              "  </thead>\n",
              "  <tbody>\n",
              "    <tr>\n",
              "      <th>1</th>\n",
              "      <td>1</td>\n",
              "      <td>9.846144</td>\n",
              "    </tr>\n",
              "    <tr>\n",
              "      <th>2</th>\n",
              "      <td>2</td>\n",
              "      <td>4.841510</td>\n",
              "    </tr>\n",
              "    <tr>\n",
              "      <th>3</th>\n",
              "      <td>3</td>\n",
              "      <td>8.474597</td>\n",
              "    </tr>\n",
              "    <tr>\n",
              "      <th>4</th>\n",
              "      <td>4</td>\n",
              "      <td>3.163695</td>\n",
              "    </tr>\n",
              "    <tr>\n",
              "      <th>5</th>\n",
              "      <td>5</td>\n",
              "      <td>7.095451</td>\n",
              "    </tr>\n",
              "  </tbody>\n",
              "</table>\n",
              "</div>"
            ],
            "text/plain": [
              "   UID  sleep_duration\n",
              "1    1        9.846144\n",
              "2    2        4.841510\n",
              "3    3        8.474597\n",
              "4    4        3.163695\n",
              "5    5        7.095451"
            ]
          },
          "metadata": {},
          "execution_count": 8
        }
      ]
    },
    {
      "cell_type": "markdown",
      "metadata": {
        "id": "BNsRP-ATtax2"
      },
      "source": [
        "We should see that the difference between the original and the redacted dataset is equal to exactly the redated user's data:"
      ]
    },
    {
      "cell_type": "code",
      "metadata": {
        "colab": {
          "base_uri": "https://localhost:8080/"
        },
        "id": "jZaspZ39tW08",
        "outputId": "3f076326-99c6-4030-da1a-26f53c3c940e"
      },
      "source": [
        "print(\"sleep duration of redacted user: {}\".format(original_df.iloc[0, 1]))\n",
        "print(\"sum of original dataset: {}\".format(original_df['sleep_duration'].sum()))\n",
        "print(\"sum of redacted dataset: {}\".format(redact_df['sleep_duration'].sum()))\n",
        "print(\"difference between dataset: {}\".format(original_df['sleep_duration'].sum()-redact_df['sleep_duration'].sum()))"
      ],
      "execution_count": null,
      "outputs": [
        {
          "output_type": "stream",
          "name": "stdout",
          "text": [
            "sleep duration of redacted user: 8.691972765491704\n",
            "sum of original dataset: 70122.8203478781\n",
            "sum of redacted dataset: 70114.12837511262\n",
            "difference between dataset: 8.691972765489481\n"
          ]
        }
      ]
    },
    {
      "cell_type": "markdown",
      "source": [
        "# The Solution: Diffential Privacy\n",
        "- we add Laplace noise to both datasets and show that the attack doesn't work anymore."
      ],
      "metadata": {
        "id": "o9zBvT_d7hAb"
      }
    },
    {
      "cell_type": "code",
      "metadata": {
        "id": "EX-8Ypb8v96e"
      },
      "source": [
        "# add noise to the original dataset.\n",
        "dp_sum_original_dataset = BoundedSum(\n",
        "    epsilon=1, lower_bound=original_df['sleep_duration'].min(), upper_bound=original_df['sleep_duration'].max(), dtype=\"float\")\n",
        "dp_sum_original_dataset.reset()\n",
        "dp_sum_original_dataset.add_entries(original_df[\"sleep_duration\"].to_list())  # adding the data to the DP algorithm"
      ],
      "execution_count": null,
      "outputs": []
    },
    {
      "cell_type": "code",
      "metadata": {
        "colab": {
          "base_uri": "https://localhost:8080/"
        },
        "id": "0zC6GiP1wNWE",
        "outputId": "80782b29-d502-4ea2-80a9-84e858d343e7"
      },
      "source": [
        "# calculate sum of the orignal dataset\n",
        "dp_sum_og = round(dp_sum_original_dataset.result(), 2)\n",
        "print(dp_sum_og)"
      ],
      "execution_count": null,
      "outputs": [
        {
          "output_type": "stream",
          "name": "stdout",
          "text": [
            "70111.29\n"
          ]
        }
      ]
    },
    {
      "cell_type": "code",
      "metadata": {
        "id": "9Pfle9xEwWB9"
      },
      "source": [
        "# add noise to the redacted dataset.\n",
        "dp_redact_dataset = BoundedSum(epsilon=1, lower_bound=original_df['sleep_duration'].min(), upper_bound=original_df['sleep_duration'].max(), dtype=\"float\")\n",
        "dp_redact_dataset.add_entries(redact_df[\"sleep_duration\"].to_list())"
      ],
      "execution_count": null,
      "outputs": []
    },
    {
      "cell_type": "code",
      "metadata": {
        "colab": {
          "base_uri": "https://localhost:8080/"
        },
        "id": "7OJvX5wkwmV1",
        "outputId": "6149997d-c205-4088-9b6f-1073b94b2cd9"
      },
      "source": [
        "# calculate sum of the redacted dataset\n",
        "dp_sum_redact = round(dp_redact_dataset.result(), 2)\n",
        "print(dp_sum_redact)"
      ],
      "execution_count": null,
      "outputs": [
        {
          "output_type": "stream",
          "name": "stdout",
          "text": [
            "70109.71\n"
          ]
        }
      ]
    },
    {
      "cell_type": "markdown",
      "source": [
        "We should now see that the difference between the two datasets (using DP) is no longer the sleep duration of the redacted user!"
      ],
      "metadata": {
        "id": "CZm6z_Z_8dhZ"
      }
    },
    {
      "cell_type": "code",
      "metadata": {
        "colab": {
          "base_uri": "https://localhost:8080/"
        },
        "id": "AIVDjY4jwrVb",
        "outputId": "710f7711-740a-48f9-fd7e-72f3a8c05e9f"
      },
      "source": [
        "print(\"sleep duration of redacted user: {}\".format(original_df.iloc[0, 1]))\n",
        "print(\"difference in sum using DP: {}\".format(round(dp_sum_og - dp_sum_redact, 2)))\n",
        "print(\"difference in sum without DP: {}\".format(round(original_df['sleep_duration'].sum() - redact_df['sleep_duration'].sum(), 2)))"
      ],
      "execution_count": null,
      "outputs": [
        {
          "output_type": "stream",
          "name": "stdout",
          "text": [
            "sleep duration of redacted user: 8.691972765491704\n",
            "difference in sum using DP: 1.58\n",
            "difference in sum without DP: 8.69\n"
          ]
        }
      ]
    },
    {
      "cell_type": "code",
      "source": [
        ""
      ],
      "metadata": {
        "id": "9arHMr_w8bzG"
      },
      "execution_count": null,
      "outputs": []
    }
  ]
}